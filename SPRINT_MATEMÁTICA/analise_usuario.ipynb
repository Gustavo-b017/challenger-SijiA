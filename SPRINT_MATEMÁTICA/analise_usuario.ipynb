{
 "cells": [
  {
   "cell_type": "code",
   "execution_count": 1,
   "metadata": {},
   "outputs": [],
   "source": [
    "import pandas as pd"
   ]
  },
  {
   "cell_type": "markdown",
   "metadata": {},
   "source": [
    "# Classe Quiz"
   ]
  },
  {
   "cell_type": "code",
   "execution_count": 2,
   "metadata": {},
   "outputs": [],
   "source": [
    "class Quiz:\n",
    "    def __init__(self, nome_quiz, total_questoes):\n",
    "        self.nome_quiz = nome_quiz\n",
    "        self.total_questoes = total_questoes\n",
    "        self.acertos = 0\n",
    "        self.erros = 0\n",
    "        self.duracao_total = 0\n",
    "        self.user = ''\n",
    "        self.tentativa = 0\n",
    "        self.resultados = {}\n",
    "        self.percentual_acertos = 0\n",
    "        self.media_tempo_resposta = 0\n",
    "        self.mensagem = ''\n",
    "\n",
    "    \n",
    "    # Função responsável por contabilizar os acertos, os erros e o tempo toda da partida avaliar_desempenho(self)\n",
    "    def respostas (self, user='',  tentativa=0, resposta_correta=[], tempo_resposta=[]):\n",
    "\n",
    "        self.tentativa = tentativa\n",
    "        self.user = user\n",
    "        self.duracao_total = sum(tempo_resposta)\n",
    "\n",
    "        for resposta in resposta_correta:\n",
    "            if resposta:\n",
    "                self.acertos += 1\n",
    "            else:\n",
    "                self.erros += 1\n",
    "        \n",
    "        # Calculando desempenho\n",
    "        self.media_tempo_resposta = self.duracao_total / self.total_questoes\n",
    "        self.percentual_acertos   = (self.acertos / self.total_questoes) * 100\n",
    "\n",
    "        # Avaliando o resultado do usuário\n",
    "        if self.percentual_acertos >= 70 and self.media_tempo_resposta <= 20:\n",
    "            mensagem = \"APROVADO\"\n",
    "        else:\n",
    "            mensagem = \"REPROVADO\"\n",
    "\n",
    "        self.mensagem = mensagem\n",
    "        \n",
    "\n",
    "    def armazenando_dados (self):\n",
    "\n",
    "        self.resultados[self.user,f\"Tentativa {self.tentativa}\"]= {\n",
    "                'Quiz':                      self.nome_quiz,\n",
    "                'Acertos':                   self.acertos,\n",
    "                'Erros':                     self.erros,\n",
    "                'Acertos(%)':                self.percentual_acertos,\n",
    "                'Média tempo resposta(s)':   self.media_tempo_resposta,\n",
    "                'Duração do quiz(min)':      (self.duracao_total/60),\n",
    "                'Status':                    self.mensagem\n",
    "            }\n",
    "        \n",
    "        data_resutados = pd.DataFrame(self.resultados).T\n",
    "\n",
    "        self.acertos = 0\n",
    "        self.erros = 0\n",
    "        self.percentual_acertos = 0\n",
    "        self.media_tempo_resposta = 0\n",
    "        self.duracao_total = 0\n",
    "        self.mensagem = 0\n",
    "\n",
    "        return data_resutados\n",
    "            \n"
   ]
  },
  {
   "cell_type": "code",
   "execution_count": 3,
   "metadata": {},
   "outputs": [],
   "source": [
    "# INPUT INICIAL\n",
    "nome_quiz = 'Exame - Hemograma'\n",
    "qtd       = 10\n",
    "\n",
    "quiz = Quiz(nome_quiz,qtd)"
   ]
  },
  {
   "cell_type": "markdown",
   "metadata": {},
   "source": [
    "# Analise de cada tentativa"
   ]
  },
  {
   "cell_type": "code",
   "execution_count": 4,
   "metadata": {},
   "outputs": [],
   "source": [
    "# Função responsável por  filtrar as informações do DataFrame\n",
    "def analise_tentativa (user, data, tentativa):\n",
    "\n",
    "        # Filtrando o DataFrame\n",
    "        data_filtrado =  data.loc[(data['User_ID'] == user) & (data['Tentativa'] == f'Tentativa_{tentativa}'), 'Respostas'].iloc[0]\n",
    "\n",
    "        respostas = []\n",
    "        tempo     = []\n",
    "\n",
    "        for questao in range(quiz.total_questoes):\n",
    "                        \n",
    "                respostas.append(data_filtrado[questao][0])\n",
    "                tempo.append(data_filtrado[questao][1])\n",
    "                \n",
    "        quiz.armazenando_dados()        \n",
    "        quiz.respostas(user, tentativa, respostas, tempo)\n",
    "        \n"
   ]
  },
  {
   "cell_type": "markdown",
   "metadata": {},
   "source": [
    "# Consulta"
   ]
  },
  {
   "cell_type": "code",
   "execution_count": 5,
   "metadata": {},
   "outputs": [],
   "source": [
    "def consulta(user, df):\n",
    "    \n",
    "    tentativas = df.loc[(df['User_ID'] == user)]\n",
    "\n",
    "    for vez in range(1, len(tentativas) + 1):\n",
    "        analise_tentativa(user, df, vez)\n",
    "    \n",
    "    data_user  = quiz.armazenando_dados().loc[user]\n",
    "\n",
    "    df_user  = pd.DataFrame(data_user)\n",
    "\n",
    "    df_user.to_excel(\"dados_user.xlsx\", index=False)\n",
    "    \n",
    "    #  Mostrando as informações coletadas sobre o usuário\n",
    "    print(f\" PROGRESSO DO USER: {user}\")\n",
    "    display(data_user)"
   ]
  },
  {
   "cell_type": "markdown",
   "metadata": {},
   "source": [
    "# Quizzes disponiveis"
   ]
  },
  {
   "cell_type": "code",
   "execution_count": 6,
   "metadata": {},
   "outputs": [],
   "source": [
    "\n",
    "quizzes = {\n",
    "            'Q1': {'Nome': 'Exame - hemograma', 'Qtd': 10},\n",
    "            'Q2': {'Nome': 'Exame - urina',     'Qtd': 10},\n",
    "            'Q3': {'Nome': 'Exame - fezes',     'Qtd': 10}, \n",
    "        }\n",
    "\n",
    "df_quizzes = pd.DataFrame(quizzes).T"
   ]
  },
  {
   "cell_type": "markdown",
   "metadata": {},
   "source": [
    "# Gerando DataFrame"
   ]
  },
  {
   "cell_type": "code",
   "execution_count": 7,
   "metadata": {},
   "outputs": [
    {
     "name": "stdout",
     "output_type": "stream",
     "text": [
      "  User_ID    Tentativa                                          Respostas\n",
      "0  User_1  Tentativa_1  0    (False, 38)\n",
      "1    (False, 37)\n",
      "2    (False,...\n",
      "1  User_1  Tentativa_2  0    (False, 27)\n",
      "1     (True, 13)\n",
      "2    (False,...\n",
      "2  User_1  Tentativa_3  0     (True, 23)\n",
      "1     (True, 30)\n",
      "2    (False,...\n",
      "3  User_1  Tentativa_4  0     (True, 18)\n",
      "1     (True, 12)\n",
      "2     (True,...\n",
      "4  User_2  Tentativa_1  0    (False, 31)\n",
      "1    (False, 20)\n",
      "2    (False,...\n"
     ]
    }
   ],
   "source": [
    "import random\n",
    "import pandas as pd\n",
    "\n",
    "# Função para gerar tentativas com condições específicas\n",
    "def gerar_tentativa(num_tentativa):\n",
    "    tentativa = []\n",
    "    for _ in range(10):  # 10 questões no quiz\n",
    "        # Na primeira tentativa, definimos 70% de chance de erro e um tempo mais longo\n",
    "        if num_tentativa == 1:\n",
    "            resultado = random.choices([True, False], weights=[0.3, 0.7])[0]\n",
    "            tempo = random.randint(20, 40)  # Tempo aleatório entre 20 e 40 segundos\n",
    "        # Nas duas últimas tentativas, garantimos mais acertos do que erros\n",
    "        elif num_tentativa >= 3:\n",
    "            resultado = random.choices([True, False], weights=[0.8, 0.2])[0]\n",
    "            tempo = random.randint(10, 30)  # Tempo aleatório entre 10 e 30 segundos\n",
    "        # Tentativas intermediárias com distribuição uniforme\n",
    "        else:\n",
    "            resultado = random.choice([True, False])  \n",
    "            tempo = random.randint(10, 30)  # Tempo aleatório entre 10 e 30 segundos\n",
    "        tentativa.append((resultado, tempo))\n",
    "    return pd.Series(tentativa)\n",
    "\n",
    "# Dicionário para armazenar as respostas dos usuários\n",
    "respostas = {}\n",
    "\n",
    "# Gerar 100 novos usuários com 4 tentativas diferentes cada\n",
    "for i in range(1, 11):\n",
    "    user_id = f'User_{i}'\n",
    "    tentativas_usuario = {}\n",
    "    for j in range(1, 5):\n",
    "        nome_tentativa = f'Tentativa_{j}'\n",
    "        tentativa = gerar_tentativa(j)\n",
    "        tentativas_usuario[nome_tentativa] = tentativa\n",
    "    respostas[user_id] = tentativas_usuario\n",
    "\n",
    "# Criar DataFrame com os resultados das tentativas dos usuários\n",
    "data = []\n",
    "for user_id, tentativas_usuario in respostas.items():\n",
    "    for tentativa, respostas_tentativa in tentativas_usuario.items():\n",
    "        data.append([user_id, tentativa, respostas_tentativa])\n",
    "\n",
    "# Criar DataFrame a partir dos dados coletados\n",
    "df = pd.DataFrame(data, columns=['User_ID', 'Tentativa', 'Respostas'])\n",
    "\n",
    "# Exibir as primeiras 5 linhas do DataFrame para verificar\n",
    "print(df.head())\n"
   ]
  },
  {
   "cell_type": "code",
   "execution_count": 8,
   "metadata": {},
   "outputs": [
    {
     "name": "stdout",
     "output_type": "stream",
     "text": [
      " PROGRESSO DO USER: User_1\n"
     ]
    },
    {
     "data": {
      "text/html": [
       "<div>\n",
       "<style scoped>\n",
       "    .dataframe tbody tr th:only-of-type {\n",
       "        vertical-align: middle;\n",
       "    }\n",
       "\n",
       "    .dataframe tbody tr th {\n",
       "        vertical-align: top;\n",
       "    }\n",
       "\n",
       "    .dataframe thead th {\n",
       "        text-align: right;\n",
       "    }\n",
       "</style>\n",
       "<table border=\"1\" class=\"dataframe\">\n",
       "  <thead>\n",
       "    <tr style=\"text-align: right;\">\n",
       "      <th></th>\n",
       "      <th>Quiz</th>\n",
       "      <th>Acertos</th>\n",
       "      <th>Erros</th>\n",
       "      <th>Acertos(%)</th>\n",
       "      <th>Média tempo resposta(s)</th>\n",
       "      <th>Duração do quiz(min)</th>\n",
       "      <th>Status</th>\n",
       "    </tr>\n",
       "  </thead>\n",
       "  <tbody>\n",
       "    <tr>\n",
       "      <th>Tentativa 1</th>\n",
       "      <td>Exame - Hemograma</td>\n",
       "      <td>3</td>\n",
       "      <td>7</td>\n",
       "      <td>30.0</td>\n",
       "      <td>31.7</td>\n",
       "      <td>5.283333</td>\n",
       "      <td>REPROVADO</td>\n",
       "    </tr>\n",
       "    <tr>\n",
       "      <th>Tentativa 2</th>\n",
       "      <td>Exame - Hemograma</td>\n",
       "      <td>3</td>\n",
       "      <td>7</td>\n",
       "      <td>30.0</td>\n",
       "      <td>18.5</td>\n",
       "      <td>3.083333</td>\n",
       "      <td>REPROVADO</td>\n",
       "    </tr>\n",
       "    <tr>\n",
       "      <th>Tentativa 3</th>\n",
       "      <td>Exame - Hemograma</td>\n",
       "      <td>8</td>\n",
       "      <td>2</td>\n",
       "      <td>80.0</td>\n",
       "      <td>22.6</td>\n",
       "      <td>3.766667</td>\n",
       "      <td>REPROVADO</td>\n",
       "    </tr>\n",
       "    <tr>\n",
       "      <th>Tentativa 4</th>\n",
       "      <td>Exame - Hemograma</td>\n",
       "      <td>9</td>\n",
       "      <td>1</td>\n",
       "      <td>90.0</td>\n",
       "      <td>19.8</td>\n",
       "      <td>3.3</td>\n",
       "      <td>APROVADO</td>\n",
       "    </tr>\n",
       "  </tbody>\n",
       "</table>\n",
       "</div>"
      ],
      "text/plain": [
       "                          Quiz Acertos Erros Acertos(%)  \\\n",
       "Tentativa 1  Exame - Hemograma       3     7       30.0   \n",
       "Tentativa 2  Exame - Hemograma       3     7       30.0   \n",
       "Tentativa 3  Exame - Hemograma       8     2       80.0   \n",
       "Tentativa 4  Exame - Hemograma       9     1       90.0   \n",
       "\n",
       "            Média tempo resposta(s) Duração do quiz(min)     Status  \n",
       "Tentativa 1                    31.7             5.283333  REPROVADO  \n",
       "Tentativa 2                    18.5             3.083333  REPROVADO  \n",
       "Tentativa 3                    22.6             3.766667  REPROVADO  \n",
       "Tentativa 4                    19.8                  3.3   APROVADO  "
      ]
     },
     "metadata": {},
     "output_type": "display_data"
    }
   ],
   "source": [
    "consulta('User_1',df)"
   ]
  },
  {
   "cell_type": "markdown",
   "metadata": {},
   "source": [
    "Dentro do contexto de análise de desempenho em um quiz, existem várias outras relações que podem ser exploradas além da relação entre a porcentagem de acertos e a média do tempo de resposta. Algumas possibilidades incluem:\n",
    "\n",
    "1. **Relação entre acertos e erros**: Você pode explorar como o número de acertos se relaciona com o número de erros. Isso pode fornecer insights sobre a consistência do desempenho do usuário e áreas específicas onde eles têm mais dificuldade.\n",
    "\n",
    "2. **Relação entre o tempo de resposta e o número de acertos**: Em vez de apenas a média do tempo de resposta, você pode investigar como o tempo de resposta para cada pergunta se relaciona com o número de acertos. Isso pode ajudar a identificar se os usuários tendem a responder mais rapidamente a perguntas que eles acertam ou erram.\n",
    "\n",
    "3. **Análise de tendências ao longo do tempo**: Você pode analisar como o desempenho do usuário muda ao longo das diferentes tentativas do quiz. Isso pode incluir a identificação de melhorias ou piorias consistentes no desempenho, bem como a identificação de áreas específicas de melhoria ao longo do tempo.\n",
    "\n",
    "4. **Análise de padrões de resposta**: Além de apenas o número de acertos, você pode analisar padrões específicos de respostas dos usuários, como respostas corretas em sequência, respostas corretas após erros, etc. Isso pode fornecer insights sobre a estratégia de resposta dos usuários e áreas onde eles podem estar aplicando técnicas específicas.\n",
    "\n",
    "5. **Correlação entre métricas de desempenho e características dos usuários**: Se você tiver informações sobre os usuários, como idade, gênero, nível de educação, etc., você pode explorar a correlação entre essas características e o desempenho no quiz. Isso pode ajudar a identificar grupos de usuários que têm um desempenho particularmente bom ou ruim e entender melhor os fatores que influenciam o desempenho.\n",
    "\n",
    "Essas são apenas algumas das possibilidades de análise que podem ser exploradas dentro do contexto de desempenho em um quiz. A escolha das análises a serem realizadas dependerá dos seus objetivos específicos e dos dados disponíveis."
   ]
  }
 ],
 "metadata": {
  "kernelspec": {
   "display_name": "Python 3",
   "language": "python",
   "name": "python3"
  },
  "language_info": {
   "codemirror_mode": {
    "name": "ipython",
    "version": 3
   },
   "file_extension": ".py",
   "mimetype": "text/x-python",
   "name": "python",
   "nbconvert_exporter": "python",
   "pygments_lexer": "ipython3",
   "version": "3.11.8"
  }
 },
 "nbformat": 4,
 "nbformat_minor": 2
}
