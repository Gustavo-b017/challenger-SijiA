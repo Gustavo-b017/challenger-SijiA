{
 "cells": [
  {
   "cell_type": "markdown",
   "metadata": {},
   "source": [
    "# Regressão Linear"
   ]
  },
  {
   "cell_type": "code",
   "execution_count": 73,
   "metadata": {},
   "outputs": [],
   "source": [
    "import pandas as pd\n",
    "import numpy as np\n",
    "import matplotlib.pyplot as plt"
   ]
  },
  {
   "cell_type": "code",
   "execution_count": 74,
   "metadata": {},
   "outputs": [
    {
     "data": {
      "text/html": [
       "<div>\n",
       "<style scoped>\n",
       "    .dataframe tbody tr th:only-of-type {\n",
       "        vertical-align: middle;\n",
       "    }\n",
       "\n",
       "    .dataframe tbody tr th {\n",
       "        vertical-align: top;\n",
       "    }\n",
       "\n",
       "    .dataframe thead th {\n",
       "        text-align: right;\n",
       "    }\n",
       "</style>\n",
       "<table border=\"1\" class=\"dataframe\">\n",
       "  <thead>\n",
       "    <tr style=\"text-align: right;\">\n",
       "      <th></th>\n",
       "      <th>Quiz</th>\n",
       "      <th>Acertos</th>\n",
       "      <th>Erros</th>\n",
       "      <th>Acertos(%)</th>\n",
       "      <th>Média tempo resposta(s)</th>\n",
       "      <th>Duração do quiz(min)</th>\n",
       "      <th>Status</th>\n",
       "    </tr>\n",
       "  </thead>\n",
       "  <tbody>\n",
       "    <tr>\n",
       "      <th>0</th>\n",
       "      <td>Exame - Hemograma</td>\n",
       "      <td>5</td>\n",
       "      <td>5</td>\n",
       "      <td>50</td>\n",
       "      <td>21.8</td>\n",
       "      <td>3.633333</td>\n",
       "      <td>REPROVADO</td>\n",
       "    </tr>\n",
       "    <tr>\n",
       "      <th>1</th>\n",
       "      <td>Exame - Hemograma</td>\n",
       "      <td>3</td>\n",
       "      <td>7</td>\n",
       "      <td>30</td>\n",
       "      <td>19.5</td>\n",
       "      <td>3.250000</td>\n",
       "      <td>REPROVADO</td>\n",
       "    </tr>\n",
       "    <tr>\n",
       "      <th>2</th>\n",
       "      <td>Exame - Hemograma</td>\n",
       "      <td>3</td>\n",
       "      <td>7</td>\n",
       "      <td>30</td>\n",
       "      <td>17.7</td>\n",
       "      <td>2.950000</td>\n",
       "      <td>REPROVADO</td>\n",
       "    </tr>\n",
       "    <tr>\n",
       "      <th>3</th>\n",
       "      <td>Exame - Hemograma</td>\n",
       "      <td>7</td>\n",
       "      <td>3</td>\n",
       "      <td>70</td>\n",
       "      <td>17.8</td>\n",
       "      <td>2.966667</td>\n",
       "      <td>APROVADO</td>\n",
       "    </tr>\n",
       "    <tr>\n",
       "      <th>4</th>\n",
       "      <td>Exame - Hemograma</td>\n",
       "      <td>6</td>\n",
       "      <td>4</td>\n",
       "      <td>60</td>\n",
       "      <td>20.0</td>\n",
       "      <td>3.333333</td>\n",
       "      <td>REPROVADO</td>\n",
       "    </tr>\n",
       "    <tr>\n",
       "      <th>5</th>\n",
       "      <td>Exame - Hemograma</td>\n",
       "      <td>3</td>\n",
       "      <td>7</td>\n",
       "      <td>30</td>\n",
       "      <td>21.5</td>\n",
       "      <td>3.583333</td>\n",
       "      <td>REPROVADO</td>\n",
       "    </tr>\n",
       "    <tr>\n",
       "      <th>6</th>\n",
       "      <td>Exame - Hemograma</td>\n",
       "      <td>5</td>\n",
       "      <td>5</td>\n",
       "      <td>50</td>\n",
       "      <td>17.7</td>\n",
       "      <td>2.950000</td>\n",
       "      <td>REPROVADO</td>\n",
       "    </tr>\n",
       "    <tr>\n",
       "      <th>7</th>\n",
       "      <td>Exame - Hemograma</td>\n",
       "      <td>4</td>\n",
       "      <td>6</td>\n",
       "      <td>40</td>\n",
       "      <td>19.1</td>\n",
       "      <td>3.183333</td>\n",
       "      <td>REPROVADO</td>\n",
       "    </tr>\n",
       "    <tr>\n",
       "      <th>8</th>\n",
       "      <td>Exame - Hemograma</td>\n",
       "      <td>2</td>\n",
       "      <td>8</td>\n",
       "      <td>20</td>\n",
       "      <td>16.6</td>\n",
       "      <td>2.766667</td>\n",
       "      <td>REPROVADO</td>\n",
       "    </tr>\n",
       "    <tr>\n",
       "      <th>9</th>\n",
       "      <td>Exame - Hemograma</td>\n",
       "      <td>3</td>\n",
       "      <td>7</td>\n",
       "      <td>30</td>\n",
       "      <td>19.5</td>\n",
       "      <td>3.250000</td>\n",
       "      <td>REPROVADO</td>\n",
       "    </tr>\n",
       "    <tr>\n",
       "      <th>10</th>\n",
       "      <td>Exame - Hemograma</td>\n",
       "      <td>5</td>\n",
       "      <td>5</td>\n",
       "      <td>50</td>\n",
       "      <td>19.1</td>\n",
       "      <td>3.183333</td>\n",
       "      <td>REPROVADO</td>\n",
       "    </tr>\n",
       "    <tr>\n",
       "      <th>11</th>\n",
       "      <td>Exame - Hemograma</td>\n",
       "      <td>4</td>\n",
       "      <td>6</td>\n",
       "      <td>40</td>\n",
       "      <td>19.4</td>\n",
       "      <td>3.233333</td>\n",
       "      <td>REPROVADO</td>\n",
       "    </tr>\n",
       "    <tr>\n",
       "      <th>12</th>\n",
       "      <td>Exame - Hemograma</td>\n",
       "      <td>4</td>\n",
       "      <td>6</td>\n",
       "      <td>40</td>\n",
       "      <td>18.5</td>\n",
       "      <td>3.083333</td>\n",
       "      <td>REPROVADO</td>\n",
       "    </tr>\n",
       "    <tr>\n",
       "      <th>13</th>\n",
       "      <td>Exame - Hemograma</td>\n",
       "      <td>4</td>\n",
       "      <td>6</td>\n",
       "      <td>40</td>\n",
       "      <td>21.2</td>\n",
       "      <td>3.533333</td>\n",
       "      <td>REPROVADO</td>\n",
       "    </tr>\n",
       "    <tr>\n",
       "      <th>14</th>\n",
       "      <td>Exame - Hemograma</td>\n",
       "      <td>5</td>\n",
       "      <td>5</td>\n",
       "      <td>50</td>\n",
       "      <td>19.8</td>\n",
       "      <td>3.300000</td>\n",
       "      <td>REPROVADO</td>\n",
       "    </tr>\n",
       "    <tr>\n",
       "      <th>15</th>\n",
       "      <td>Exame - Hemograma</td>\n",
       "      <td>2</td>\n",
       "      <td>8</td>\n",
       "      <td>20</td>\n",
       "      <td>22.2</td>\n",
       "      <td>3.700000</td>\n",
       "      <td>REPROVADO</td>\n",
       "    </tr>\n",
       "    <tr>\n",
       "      <th>16</th>\n",
       "      <td>Exame - Hemograma</td>\n",
       "      <td>5</td>\n",
       "      <td>5</td>\n",
       "      <td>50</td>\n",
       "      <td>20.4</td>\n",
       "      <td>3.400000</td>\n",
       "      <td>REPROVADO</td>\n",
       "    </tr>\n",
       "    <tr>\n",
       "      <th>17</th>\n",
       "      <td>Exame - Hemograma</td>\n",
       "      <td>8</td>\n",
       "      <td>2</td>\n",
       "      <td>80</td>\n",
       "      <td>22.0</td>\n",
       "      <td>3.666667</td>\n",
       "      <td>REPROVADO</td>\n",
       "    </tr>\n",
       "    <tr>\n",
       "      <th>18</th>\n",
       "      <td>Exame - Hemograma</td>\n",
       "      <td>7</td>\n",
       "      <td>3</td>\n",
       "      <td>70</td>\n",
       "      <td>15.4</td>\n",
       "      <td>2.566667</td>\n",
       "      <td>APROVADO</td>\n",
       "    </tr>\n",
       "    <tr>\n",
       "      <th>19</th>\n",
       "      <td>Exame - Hemograma</td>\n",
       "      <td>6</td>\n",
       "      <td>4</td>\n",
       "      <td>60</td>\n",
       "      <td>17.6</td>\n",
       "      <td>2.933333</td>\n",
       "      <td>REPROVADO</td>\n",
       "    </tr>\n",
       "    <tr>\n",
       "      <th>20</th>\n",
       "      <td>Exame - Hemograma</td>\n",
       "      <td>7</td>\n",
       "      <td>3</td>\n",
       "      <td>70</td>\n",
       "      <td>20.5</td>\n",
       "      <td>3.416667</td>\n",
       "      <td>REPROVADO</td>\n",
       "    </tr>\n",
       "    <tr>\n",
       "      <th>21</th>\n",
       "      <td>Exame - Hemograma</td>\n",
       "      <td>8</td>\n",
       "      <td>2</td>\n",
       "      <td>80</td>\n",
       "      <td>19.0</td>\n",
       "      <td>3.166667</td>\n",
       "      <td>APROVADO</td>\n",
       "    </tr>\n",
       "    <tr>\n",
       "      <th>22</th>\n",
       "      <td>Exame - Hemograma</td>\n",
       "      <td>5</td>\n",
       "      <td>5</td>\n",
       "      <td>50</td>\n",
       "      <td>21.8</td>\n",
       "      <td>3.633333</td>\n",
       "      <td>REPROVADO</td>\n",
       "    </tr>\n",
       "    <tr>\n",
       "      <th>23</th>\n",
       "      <td>Exame - Hemograma</td>\n",
       "      <td>3</td>\n",
       "      <td>7</td>\n",
       "      <td>30</td>\n",
       "      <td>20.0</td>\n",
       "      <td>3.333333</td>\n",
       "      <td>REPROVADO</td>\n",
       "    </tr>\n",
       "    <tr>\n",
       "      <th>24</th>\n",
       "      <td>Exame - Hemograma</td>\n",
       "      <td>4</td>\n",
       "      <td>6</td>\n",
       "      <td>40</td>\n",
       "      <td>21.9</td>\n",
       "      <td>3.650000</td>\n",
       "      <td>REPROVADO</td>\n",
       "    </tr>\n",
       "    <tr>\n",
       "      <th>25</th>\n",
       "      <td>Exame - Hemograma</td>\n",
       "      <td>4</td>\n",
       "      <td>6</td>\n",
       "      <td>40</td>\n",
       "      <td>22.0</td>\n",
       "      <td>3.666667</td>\n",
       "      <td>REPROVADO</td>\n",
       "    </tr>\n",
       "    <tr>\n",
       "      <th>26</th>\n",
       "      <td>Exame - Hemograma</td>\n",
       "      <td>5</td>\n",
       "      <td>5</td>\n",
       "      <td>50</td>\n",
       "      <td>16.9</td>\n",
       "      <td>2.816667</td>\n",
       "      <td>REPROVADO</td>\n",
       "    </tr>\n",
       "    <tr>\n",
       "      <th>27</th>\n",
       "      <td>Exame - Hemograma</td>\n",
       "      <td>2</td>\n",
       "      <td>8</td>\n",
       "      <td>20</td>\n",
       "      <td>19.9</td>\n",
       "      <td>3.316667</td>\n",
       "      <td>REPROVADO</td>\n",
       "    </tr>\n",
       "    <tr>\n",
       "      <th>28</th>\n",
       "      <td>Exame - Hemograma</td>\n",
       "      <td>7</td>\n",
       "      <td>3</td>\n",
       "      <td>70</td>\n",
       "      <td>15.7</td>\n",
       "      <td>2.616667</td>\n",
       "      <td>APROVADO</td>\n",
       "    </tr>\n",
       "    <tr>\n",
       "      <th>29</th>\n",
       "      <td>Exame - Hemograma</td>\n",
       "      <td>6</td>\n",
       "      <td>4</td>\n",
       "      <td>60</td>\n",
       "      <td>21.1</td>\n",
       "      <td>3.516667</td>\n",
       "      <td>REPROVADO</td>\n",
       "    </tr>\n",
       "    <tr>\n",
       "      <th>30</th>\n",
       "      <td>Exame - Hemograma</td>\n",
       "      <td>7</td>\n",
       "      <td>3</td>\n",
       "      <td>70</td>\n",
       "      <td>21.9</td>\n",
       "      <td>3.650000</td>\n",
       "      <td>REPROVADO</td>\n",
       "    </tr>\n",
       "    <tr>\n",
       "      <th>31</th>\n",
       "      <td>Exame - Hemograma</td>\n",
       "      <td>4</td>\n",
       "      <td>6</td>\n",
       "      <td>40</td>\n",
       "      <td>21.6</td>\n",
       "      <td>3.600000</td>\n",
       "      <td>REPROVADO</td>\n",
       "    </tr>\n",
       "    <tr>\n",
       "      <th>32</th>\n",
       "      <td>Exame - Hemograma</td>\n",
       "      <td>5</td>\n",
       "      <td>5</td>\n",
       "      <td>50</td>\n",
       "      <td>18.6</td>\n",
       "      <td>3.100000</td>\n",
       "      <td>REPROVADO</td>\n",
       "    </tr>\n",
       "    <tr>\n",
       "      <th>33</th>\n",
       "      <td>Exame - Hemograma</td>\n",
       "      <td>4</td>\n",
       "      <td>6</td>\n",
       "      <td>40</td>\n",
       "      <td>18.2</td>\n",
       "      <td>3.033333</td>\n",
       "      <td>REPROVADO</td>\n",
       "    </tr>\n",
       "    <tr>\n",
       "      <th>34</th>\n",
       "      <td>Exame - Hemograma</td>\n",
       "      <td>4</td>\n",
       "      <td>6</td>\n",
       "      <td>40</td>\n",
       "      <td>17.5</td>\n",
       "      <td>2.916667</td>\n",
       "      <td>REPROVADO</td>\n",
       "    </tr>\n",
       "    <tr>\n",
       "      <th>35</th>\n",
       "      <td>Exame - Hemograma</td>\n",
       "      <td>4</td>\n",
       "      <td>6</td>\n",
       "      <td>40</td>\n",
       "      <td>19.5</td>\n",
       "      <td>3.250000</td>\n",
       "      <td>REPROVADO</td>\n",
       "    </tr>\n",
       "    <tr>\n",
       "      <th>36</th>\n",
       "      <td>Exame - Hemograma</td>\n",
       "      <td>5</td>\n",
       "      <td>5</td>\n",
       "      <td>50</td>\n",
       "      <td>20.9</td>\n",
       "      <td>3.483333</td>\n",
       "      <td>REPROVADO</td>\n",
       "    </tr>\n",
       "    <tr>\n",
       "      <th>37</th>\n",
       "      <td>Exame - Hemograma</td>\n",
       "      <td>4</td>\n",
       "      <td>6</td>\n",
       "      <td>40</td>\n",
       "      <td>17.4</td>\n",
       "      <td>2.900000</td>\n",
       "      <td>REPROVADO</td>\n",
       "    </tr>\n",
       "    <tr>\n",
       "      <th>38</th>\n",
       "      <td>Exame - Hemograma</td>\n",
       "      <td>4</td>\n",
       "      <td>6</td>\n",
       "      <td>40</td>\n",
       "      <td>19.0</td>\n",
       "      <td>3.166667</td>\n",
       "      <td>REPROVADO</td>\n",
       "    </tr>\n",
       "    <tr>\n",
       "      <th>39</th>\n",
       "      <td>Exame - Hemograma</td>\n",
       "      <td>3</td>\n",
       "      <td>7</td>\n",
       "      <td>30</td>\n",
       "      <td>19.7</td>\n",
       "      <td>3.283333</td>\n",
       "      <td>REPROVADO</td>\n",
       "    </tr>\n",
       "  </tbody>\n",
       "</table>\n",
       "</div>"
      ],
      "text/plain": [
       "                 Quiz  Acertos  Erros  Acertos(%)  Média tempo resposta(s)  \\\n",
       "0   Exame - Hemograma        5      5          50                     21.8   \n",
       "1   Exame - Hemograma        3      7          30                     19.5   \n",
       "2   Exame - Hemograma        3      7          30                     17.7   \n",
       "3   Exame - Hemograma        7      3          70                     17.8   \n",
       "4   Exame - Hemograma        6      4          60                     20.0   \n",
       "5   Exame - Hemograma        3      7          30                     21.5   \n",
       "6   Exame - Hemograma        5      5          50                     17.7   \n",
       "7   Exame - Hemograma        4      6          40                     19.1   \n",
       "8   Exame - Hemograma        2      8          20                     16.6   \n",
       "9   Exame - Hemograma        3      7          30                     19.5   \n",
       "10  Exame - Hemograma        5      5          50                     19.1   \n",
       "11  Exame - Hemograma        4      6          40                     19.4   \n",
       "12  Exame - Hemograma        4      6          40                     18.5   \n",
       "13  Exame - Hemograma        4      6          40                     21.2   \n",
       "14  Exame - Hemograma        5      5          50                     19.8   \n",
       "15  Exame - Hemograma        2      8          20                     22.2   \n",
       "16  Exame - Hemograma        5      5          50                     20.4   \n",
       "17  Exame - Hemograma        8      2          80                     22.0   \n",
       "18  Exame - Hemograma        7      3          70                     15.4   \n",
       "19  Exame - Hemograma        6      4          60                     17.6   \n",
       "20  Exame - Hemograma        7      3          70                     20.5   \n",
       "21  Exame - Hemograma        8      2          80                     19.0   \n",
       "22  Exame - Hemograma        5      5          50                     21.8   \n",
       "23  Exame - Hemograma        3      7          30                     20.0   \n",
       "24  Exame - Hemograma        4      6          40                     21.9   \n",
       "25  Exame - Hemograma        4      6          40                     22.0   \n",
       "26  Exame - Hemograma        5      5          50                     16.9   \n",
       "27  Exame - Hemograma        2      8          20                     19.9   \n",
       "28  Exame - Hemograma        7      3          70                     15.7   \n",
       "29  Exame - Hemograma        6      4          60                     21.1   \n",
       "30  Exame - Hemograma        7      3          70                     21.9   \n",
       "31  Exame - Hemograma        4      6          40                     21.6   \n",
       "32  Exame - Hemograma        5      5          50                     18.6   \n",
       "33  Exame - Hemograma        4      6          40                     18.2   \n",
       "34  Exame - Hemograma        4      6          40                     17.5   \n",
       "35  Exame - Hemograma        4      6          40                     19.5   \n",
       "36  Exame - Hemograma        5      5          50                     20.9   \n",
       "37  Exame - Hemograma        4      6          40                     17.4   \n",
       "38  Exame - Hemograma        4      6          40                     19.0   \n",
       "39  Exame - Hemograma        3      7          30                     19.7   \n",
       "\n",
       "    Duração do quiz(min)     Status  \n",
       "0               3.633333  REPROVADO  \n",
       "1               3.250000  REPROVADO  \n",
       "2               2.950000  REPROVADO  \n",
       "3               2.966667   APROVADO  \n",
       "4               3.333333  REPROVADO  \n",
       "5               3.583333  REPROVADO  \n",
       "6               2.950000  REPROVADO  \n",
       "7               3.183333  REPROVADO  \n",
       "8               2.766667  REPROVADO  \n",
       "9               3.250000  REPROVADO  \n",
       "10              3.183333  REPROVADO  \n",
       "11              3.233333  REPROVADO  \n",
       "12              3.083333  REPROVADO  \n",
       "13              3.533333  REPROVADO  \n",
       "14              3.300000  REPROVADO  \n",
       "15              3.700000  REPROVADO  \n",
       "16              3.400000  REPROVADO  \n",
       "17              3.666667  REPROVADO  \n",
       "18              2.566667   APROVADO  \n",
       "19              2.933333  REPROVADO  \n",
       "20              3.416667  REPROVADO  \n",
       "21              3.166667   APROVADO  \n",
       "22              3.633333  REPROVADO  \n",
       "23              3.333333  REPROVADO  \n",
       "24              3.650000  REPROVADO  \n",
       "25              3.666667  REPROVADO  \n",
       "26              2.816667  REPROVADO  \n",
       "27              3.316667  REPROVADO  \n",
       "28              2.616667   APROVADO  \n",
       "29              3.516667  REPROVADO  \n",
       "30              3.650000  REPROVADO  \n",
       "31              3.600000  REPROVADO  \n",
       "32              3.100000  REPROVADO  \n",
       "33              3.033333  REPROVADO  \n",
       "34              2.916667  REPROVADO  \n",
       "35              3.250000  REPROVADO  \n",
       "36              3.483333  REPROVADO  \n",
       "37              2.900000  REPROVADO  \n",
       "38              3.166667  REPROVADO  \n",
       "39              3.283333  REPROVADO  "
      ]
     },
     "execution_count": 74,
     "metadata": {},
     "output_type": "execute_result"
    }
   ],
   "source": [
    "df = pd.read_excel(r\"C:\\Users\\gilso\\Documents\\FACULDADE\\Eng de Software\\1° ano\\PROJETOS\\SIJIA\\challenger-SijiA\\SPRINT_MATEMÁTICA\\dados_geral.xlsx\")\n",
    "df"
   ]
  },
  {
   "cell_type": "code",
   "execution_count": 75,
   "metadata": {},
   "outputs": [
    {
     "data": {
      "text/plain": [
       "(40, 7)"
      ]
     },
     "execution_count": 75,
     "metadata": {},
     "output_type": "execute_result"
    }
   ],
   "source": [
    "df.shape"
   ]
  },
  {
   "cell_type": "code",
   "execution_count": 76,
   "metadata": {},
   "outputs": [
    {
     "data": {
      "text/plain": [
       "Quiz                        object\n",
       "Acertos                      int64\n",
       "Erros                        int64\n",
       "Acertos(%)                   int64\n",
       "Média tempo resposta(s)    float64\n",
       "Duração do quiz(min)       float64\n",
       "Status                      object\n",
       "dtype: object"
      ]
     },
     "execution_count": 76,
     "metadata": {},
     "output_type": "execute_result"
    }
   ],
   "source": [
    "df.dtypes"
   ]
  },
  {
   "cell_type": "code",
   "execution_count": 77,
   "metadata": {},
   "outputs": [],
   "source": [
    "df = df.astype({\"Acertos(%)\": float})\n",
    "df = df.astype({\"Acertos\": float})\n",
    "df = df.astype({\"Erros\": float})"
   ]
  },
  {
   "cell_type": "code",
   "execution_count": 78,
   "metadata": {},
   "outputs": [
    {
     "data": {
      "text/plain": [
       "Quiz                        object\n",
       "Acertos                    float64\n",
       "Erros                      float64\n",
       "Acertos(%)                 float64\n",
       "Média tempo resposta(s)    float64\n",
       "Duração do quiz(min)       float64\n",
       "Status                      object\n",
       "dtype: object"
      ]
     },
     "execution_count": 78,
     "metadata": {},
     "output_type": "execute_result"
    }
   ],
   "source": [
    "df.dtypes"
   ]
  },
  {
   "cell_type": "code",
   "execution_count": 79,
   "metadata": {},
   "outputs": [
    {
     "data": {
      "image/png": "[encoded data removed]",
      "text/plain": [
       "<Figure size 640x480 with 1 Axes>"
      ]
     },
     "metadata": {},
     "output_type": "display_data"
    }
   ],
   "source": [
    "tentativas = range(len(df))\n",
    "acertos = df['Acertos']\n",
    "duracao = df['Média tempo resposta(s)']\n",
    "\n",
    "plt.scatter(tentativas, acertos)\n",
    "plt.title('PROGRESSO DO USUÁRIO')\n",
    "plt.xlabel('Acertos')\n",
    "plt.ylabel('Tentativas')\n",
    "plt.show()"
   ]
  },
  {
   "cell_type": "code",
   "execution_count": 80,
   "metadata": {},
   "outputs": [
    {
     "name": "stdout",
     "output_type": "stream",
     "text": [
      "Requirement already satisfied: statsmodels in c:\\users\\gilso\\appdata\\local\\packages\\pythonsoftwarefoundation.python.3.11_qbz5n2kfra8p0\\localcache\\local-packages\\python311\\site-packages (0.14.1)\n",
      "Requirement already satisfied: numpy<2,>=1.18 in c:\\users\\gilso\\appdata\\local\\packages\\pythonsoftwarefoundation.python.3.11_qbz5n2kfra8p0\\localcache\\local-packages\\python311\\site-packages (from statsmodels) (1.26.4)\n",
      "Requirement already satisfied: scipy!=1.9.2,>=1.4 in c:\\users\\gilso\\appdata\\local\\packages\\pythonsoftwarefoundation.python.3.11_qbz5n2kfra8p0\\localcache\\local-packages\\python311\\site-packages (from statsmodels) (1.12.0)\n",
      "Requirement already satisfied: pandas!=2.1.0,>=1.0 in c:\\users\\gilso\\appdata\\local\\packages\\pythonsoftwarefoundation.python.3.11_qbz5n2kfra8p0\\localcache\\local-packages\\python311\\site-packages (from statsmodels) (2.2.1)\n",
      "Requirement already satisfied: patsy>=0.5.4 in c:\\users\\gilso\\appdata\\local\\packages\\pythonsoftwarefoundation.python.3.11_qbz5n2kfra8p0\\localcache\\local-packages\\python311\\site-packages (from statsmodels) (0.5.6)\n",
      "Requirement already satisfied: packaging>=21.3 in c:\\users\\gilso\\appdata\\local\\packages\\pythonsoftwarefoundation.python.3.11_qbz5n2kfra8p0\\localcache\\local-packages\\python311\\site-packages (from statsmodels) (23.2)\n",
      "Requirement already satisfied: python-dateutil>=2.8.2 in c:\\users\\gilso\\appdata\\local\\packages\\pythonsoftwarefoundation.python.3.11_qbz5n2kfra8p0\\localcache\\local-packages\\python311\\site-packages (from pandas!=2.1.0,>=1.0->statsmodels) (2.8.2)\n",
      "Requirement already satisfied: pytz>=2020.1 in c:\\users\\gilso\\appdata\\local\\packages\\pythonsoftwarefoundation.python.3.11_qbz5n2kfra8p0\\localcache\\local-packages\\python311\\site-packages (from pandas!=2.1.0,>=1.0->statsmodels) (2024.1)\n",
      "Requirement already satisfied: tzdata>=2022.7 in c:\\users\\gilso\\appdata\\local\\packages\\pythonsoftwarefoundation.python.3.11_qbz5n2kfra8p0\\localcache\\local-packages\\python311\\site-packages (from pandas!=2.1.0,>=1.0->statsmodels) (2024.1)\n",
      "Requirement already satisfied: six in c:\\users\\gilso\\appdata\\local\\packages\\pythonsoftwarefoundation.python.3.11_qbz5n2kfra8p0\\localcache\\local-packages\\python311\\site-packages (from patsy>=0.5.4->statsmodels) (1.16.0)\n",
      "Note: you may need to restart the kernel to use updated packages.\n"
     ]
    }
   ],
   "source": [
    "pip install statsmodels"
   ]
  },
  {
   "cell_type": "code",
   "execution_count": 81,
   "metadata": {},
   "outputs": [],
   "source": [
    "import statsmodels.formula.api as smf\n",
    "import statsmodels.stats.api as sms"
   ]
  },
  {
   "cell_type": "code",
   "execution_count": 82,
   "metadata": {},
   "outputs": [],
   "source": [
    "# Criação do modelo\n",
    "#               eixo    y            x\n",
    "regressao = smf.ols('tentativas ~ acertos', data = df).fit()"
   ]
  },
  {
   "cell_type": "code",
   "execution_count": 83,
   "metadata": {},
   "outputs": [
    {
     "name": "stdout",
     "output_type": "stream",
     "text": [
      "                            OLS Regression Results                            \n",
      "==============================================================================\n",
      "Dep. Variable:             tentativas   R-squared:                       0.002\n",
      "Model:                            OLS   Adj. R-squared:                 -0.025\n",
      "Method:                 Least Squares   F-statistic:                   0.06060\n",
      "Date:                Fri, 29 Mar 2024   Prob (F-statistic):              0.807\n",
      "Time:                        12:25:23   Log-Likelihood:                -154.57\n",
      "No. Observations:                  40   AIC:                             313.1\n",
      "Df Residuals:                      38   BIC:                             316.5\n",
      "Df Model:                           1                                         \n",
      "Covariance Type:            nonrobust                                         \n",
      "==============================================================================\n",
      "                 coef    std err          t      P>|t|      [0.025      0.975]\n",
      "------------------------------------------------------------------------------\n",
      "Intercept     18.1393      5.836      3.108      0.004       6.325      29.953\n",
      "acertos        0.2926      1.189      0.246      0.807      -2.114       2.699\n",
      "==============================================================================\n",
      "Omnibus:                        7.660   Durbin-Watson:                   0.010\n",
      "Prob(Omnibus):                  0.022   Jarque-Bera (JB):                2.314\n",
      "Skew:                           0.028   Prob(JB):                        0.314\n",
      "Kurtosis:                       1.823   Cond. No.                         15.9\n",
      "==============================================================================\n",
      "\n",
      "Notes:\n",
      "[1] Standard Errors assume that the covariance matrix of the errors is correctly specified.\n"
     ]
    }
   ],
   "source": [
    "print(regressao.summary())"
   ]
  },
  {
   "cell_type": "code",
   "execution_count": 84,
   "metadata": {},
   "outputs": [
    {
     "data": {
      "text/plain": [
       "Intercept    18.139253\n",
       "acertos       0.292634\n",
       "dtype: float64"
      ]
     },
     "execution_count": 84,
     "metadata": {},
     "output_type": "execute_result"
    }
   ],
   "source": [
    "regressao.params"
   ]
  },
  {
   "cell_type": "code",
   "execution_count": 85,
   "metadata": {},
   "outputs": [
    {
     "name": "stderr",
     "output_type": "stream",
     "text": [
      "C:\\Users\\gilso\\AppData\\Local\\Temp\\ipykernel_35572\\3170914987.py:3: FutureWarning: Series.__getitem__ treating keys as positions is deprecated. In a future version, integer keys will always be treated as labels (consistent with DataFrame behavior). To access a value by position, use `ser.iloc[pos]`\n",
      "  plt.plot(X_plot, X_plot*regressao.params[1] + regressao.params[0], color='r')\n"
     ]
    },
    {
     "data": {
      "image/png": "[encoded data removed]",
      "text/plain": [
       "<Figure size 640x480 with 1 Axes>"
      ]
     },
     "metadata": {},
     "output_type": "display_data"
    }
   ],
   "source": [
    "plt.scatter(y=tentativas, x=acertos, color='blue', s=50, alpha=0.6)\n",
    "X_plot = np.linspace(0, 10)\n",
    "plt.plot(X_plot, X_plot*regressao.params[1] + regressao.params[0], color='r')\n",
    "plt.title('Reta de progresso do usuário')\n",
    "plt.ylabel('Tentativas')\n",
    "plt.xlabel('Acertos')\n",
    "plt.show()"
   ]
  },
  {
   "cell_type": "markdown",
   "metadata": {},
   "source": [
    "# Regressão Polinomial"
   ]
  },
  {
   "cell_type": "code",
   "execution_count": 86,
   "metadata": {},
   "outputs": [],
   "source": [
    "modelo2 = np.poly1d(np.polyfit(acertos, tentativas, 2))"
   ]
  },
  {
   "cell_type": "code",
   "execution_count": 87,
   "metadata": {},
   "outputs": [
    {
     "data": {
      "text/plain": [
       "array([20.94653701, 18.35194913, 18.35194913, 19.36224433, 20.67675074,\n",
       "       18.35194913, 20.94653701, 20.17160314, 15.48757498, 18.35194913,\n",
       "       20.94653701, 20.17160314, 20.17160314, 20.17160314, 20.94653701,\n",
       "       15.48757498, 20.94653701, 17.00301777, 19.36224433, 20.67675074,\n",
       "       19.36224433, 17.00301777, 20.94653701, 18.35194913, 20.17160314,\n",
       "       20.17160314, 20.94653701, 15.48757498, 19.36224433, 20.67675074,\n",
       "       19.36224433, 20.17160314, 20.94653701, 20.17160314, 20.17160314,\n",
       "       20.17160314, 20.94653701, 20.17160314, 20.17160314, 18.35194913])"
      ]
     },
     "execution_count": 87,
     "metadata": {},
     "output_type": "execute_result"
    }
   ],
   "source": [
    "y2 = modelo2(acertos)\n",
    "y2"
   ]
  },
  {
   "cell_type": "code",
   "execution_count": 88,
   "metadata": {},
   "outputs": [
    {
     "data": {
      "text/plain": [
       "array([-0.52236007,  5.47617451,  6.62466624])"
      ]
     },
     "execution_count": 88,
     "metadata": {},
     "output_type": "execute_result"
    }
   ],
   "source": [
    "modelo2.coef"
   ]
  },
  {
   "cell_type": "code",
   "execution_count": 89,
   "metadata": {},
   "outputs": [
    {
     "name": "stdout",
     "output_type": "stream",
     "text": [
      "Equação: tentativa = -0.5*acertos^2 + 5.5*acertos + 6.6\n"
     ]
    }
   ],
   "source": [
    "print(\"Equação: tentativa = {:.1f}*acertos^2 + {:.1f}*acertos + {:.1f}\".format(modelo2.coef[0], modelo2.coef[1], modelo2.coef[2]))"
   ]
  },
  {
   "cell_type": "code",
   "execution_count": 90,
   "metadata": {},
   "outputs": [
    {
     "data": {
      "text/plain": [
       "[<matplotlib.lines.Line2D at 0x21480fe2010>]"
      ]
     },
     "execution_count": 90,
     "metadata": {},
     "output_type": "execute_result"
    },
    {
     "data": {
      "image/png": "[encoded data removed]",
      "text/plain": [
       "<Figure size 640x480 with 1 Axes>"
      ]
     },
     "metadata": {},
     "output_type": "display_data"
    }
   ],
   "source": [
    "plt.scatter(acertos, tentativas)\n",
    "plt.plot(acertos,y2,color='red')"
   ]
  }
 ],
 "metadata": {
  "kernelspec": {
   "display_name": "Python 3",
   "language": "python",
   "name": "python3"
  },
  "language_info": {
   "codemirror_mode": {
    "name": "ipython",
    "version": 3
   },
   "file_extension": ".py",
   "mimetype": "text/x-python",
   "name": "python",
   "nbconvert_exporter": "python",
   "pygments_lexer": "ipython3",
   "version": "3.11.8"
  }
 },
 "nbformat": 4,
 "nbformat_minor": 2
}
