{
 "cells": [
  {
   "cell_type": "markdown",
   "metadata": {},
   "source": [
    "# Gerando dados aleatórios para testes"
   ]
  },
  {
   "cell_type": "markdown",
   "metadata": {},
   "source": [
    "## Modelo 1"
   ]
  },
  {
   "cell_type": "code",
   "execution_count": 22,
   "metadata": {},
   "outputs": [
    {
     "data": {
      "text/html": [
       "<div>\n",
       "<style scoped>\n",
       "    .dataframe tbody tr th:only-of-type {\n",
       "        vertical-align: middle;\n",
       "    }\n",
       "\n",
       "    .dataframe tbody tr th {\n",
       "        vertical-align: top;\n",
       "    }\n",
       "\n",
       "    .dataframe thead th {\n",
       "        text-align: right;\n",
       "    }\n",
       "</style>\n",
       "<table border=\"1\" class=\"dataframe\">\n",
       "  <thead>\n",
       "    <tr style=\"text-align: right;\">\n",
       "      <th></th>\n",
       "      <th>Carlos</th>\n",
       "      <th>Maria</th>\n",
       "    </tr>\n",
       "  </thead>\n",
       "  <tbody>\n",
       "    <tr>\n",
       "      <th>Tentativa 1</th>\n",
       "      <td>0    (False, 15)\n",
       "1    (False, 20)\n",
       "2     (True,...</td>\n",
       "      <td>0    (False, 15)\n",
       "1    (False, 20)\n",
       "2     (True,...</td>\n",
       "    </tr>\n",
       "    <tr>\n",
       "      <th>Tentativa 2</th>\n",
       "      <td>0     (True, 15)\n",
       "1    (False, 20)\n",
       "2     (True,...</td>\n",
       "      <td>0     (True, 15)\n",
       "1    (False, 20)\n",
       "2     (True,...</td>\n",
       "    </tr>\n",
       "    <tr>\n",
       "      <th>Tentativa 3</th>\n",
       "      <td>0    (False, 15)\n",
       "1     (True, 20)\n",
       "2    (False,...</td>\n",
       "      <td>0    (False, 15)\n",
       "1     (True, 20)\n",
       "2    (False,...</td>\n",
       "    </tr>\n",
       "  </tbody>\n",
       "</table>\n",
       "</div>"
      ],
      "text/plain": [
       "                                                        Carlos  \\\n",
       "Tentativa 1  0    (False, 15)\n",
       "1    (False, 20)\n",
       "2     (True,...   \n",
       "Tentativa 2  0     (True, 15)\n",
       "1    (False, 20)\n",
       "2     (True,...   \n",
       "Tentativa 3  0    (False, 15)\n",
       "1     (True, 20)\n",
       "2    (False,...   \n",
       "\n",
       "                                                         Maria  \n",
       "Tentativa 1  0    (False, 15)\n",
       "1    (False, 20)\n",
       "2     (True,...  \n",
       "Tentativa 2  0     (True, 15)\n",
       "1    (False, 20)\n",
       "2     (True,...  \n",
       "Tentativa 3  0    (False, 15)\n",
       "1     (True, 20)\n",
       "2    (False,...  "
      ]
     },
     "execution_count": 22,
     "metadata": {},
     "output_type": "execute_result"
    }
   ],
   "source": [
    "import pandas as pd \n",
    "\n",
    "# Simulação de respostas\n",
    "respostas = {}\n",
    "\n",
    "# Cada pandas.Series corresponda a uma tentativa de resposta do usuário\n",
    "\n",
    "# Cada tupla está corelacionada a uma questão do quiz. \n",
    "# Dentro de cada tupla há:\n",
    "        # [0] - O resultado da resposta do quiz, se o usuário acertou(True) ou errou (False)\n",
    "        # [1] - O tempo, em segundos, que o usuário demorou pra resolver cada questão\n",
    "\n",
    "tentativa1 = pd.Series([\n",
    "                        (False, 15), (False, 20), (True, 18), (True, 12), (False, 22), \n",
    "                        (False, 16), (True, 14), (True, 13), (False, 25), (True, 17)\n",
    "                        ], name='Quiz 1 - tentativa 1')\n",
    "tentativa2 = pd.Series([\n",
    "                        (True, 15), (False, 20), (True, 18), (True, 12), (False, 22), \n",
    "                        (True, 16), (True, 14), (True, 13), (False, 25), (True, 17)\n",
    "                        ], name='Quiz 1 -  tentativa 2')\n",
    "tentativa3 = pd.Series([\n",
    "                        (False, 15), (True, 20), (False, 18), (False, 12), (True, 22), \n",
    "                        (False, 16), (False, 14), (False, 13), (True, 25), (False, 17)\n",
    "                        ], name='Quiz 1 -  tentativa 3')\n",
    "    \n",
    "\n",
    "# Cada usuário terá seu user_id e suas próprias tentativas de resposta para as questões do Quiz 1\n",
    "user_id = 'Carlos'\n",
    "\n",
    "respostas[user_id] = {\n",
    "        'Tentativa 1': tentativa1,\n",
    "        'Tentativa 2': tentativa2,\n",
    "        'Tentativa 3': tentativa3\n",
    "        }\n",
    "\n",
    "user_id2 = 'Maria'\n",
    "respostas[user_id2] = {\n",
    "        'Tentativa 1': tentativa1,\n",
    "        'Tentativa 2': tentativa2,\n",
    "        'Tentativa 3': tentativa3\n",
    "        }\n",
    "\n",
    "teste = pd.DataFrame(respostas)\n",
    "teste"
   ]
  },
  {
   "cell_type": "code",
   "execution_count": 25,
   "metadata": {},
   "outputs": [],
   "source": [
    "teste.to_csv('dados.csv')"
   ]
  },
  {
   "cell_type": "markdown",
   "metadata": {},
   "source": [
    "## Modelo 2 (chat-gpt)"
   ]
  },
  {
   "cell_type": "code",
   "execution_count": null,
   "metadata": {},
   "outputs": [],
   "source": [
    "import pandas as pd\n",
    "import random\n",
    "\n",
    "# Função para gerar tentativas aleatórias\n",
    "def gerar_tentativa():\n",
    "    tentativa = []\n",
    "    for _ in range(10):  # 10 questões no quiz\n",
    "        resultado = random.choice([True, False])  # Escolhe aleatoriamente se a resposta está correta ou não\n",
    "        tempo = random.randint(10, 30)  # Tempo aleatório entre 10 e 30 segundos\n",
    "        tentativa.append((resultado, tempo))\n",
    "    return pd.Series(tentativa)\n",
    "\n",
    "# Dicionário para armazenar as respostas dos usuários\n",
    "respostas = {}\n",
    "\n",
    "# Gerar 10 novos usuários com 4 tentativas diferentes cada\n",
    "for i in range(1, 11):\n",
    "    user_id = f'User_{i}'\n",
    "    tentativas_usuario = {}\n",
    "    for j in range(1, 5):\n",
    "        nome_tentativa = f'Tentativa_{j}'\n",
    "        tentativa = gerar_tentativa()\n",
    "        tentativas_usuario[nome_tentativa] = tentativa\n",
    "    respostas[user_id] = tentativas_usuario\n",
    "\n",
    "# Criar DataFrame com os resultados das tentativas dos usuários\n",
    "data = []\n",
    "for user_id, tentativas_usuario in respostas.items():\n",
    "    for tentativa, respostas_tentativa in tentativas_usuario.items():\n",
    "        data.append([user_id, tentativa, respostas_tentativa])\n",
    "\n",
    "# Criar DataFrame a partir dos dados coletados\n",
    "df = pd.DataFrame(data, columns=['User_ID', 'Tentativa', 'Respostas'])\n",
    "\n",
    "# Mostrar DataFrame\n",
    "print(df)\n"
   ]
  },
  {
   "cell_type": "code",
   "execution_count": 28,
   "metadata": {},
   "outputs": [],
   "source": [
    "df.to_csv('dados.csv', index=False)"
   ]
  },
  {
   "cell_type": "code",
   "execution_count": 26,
   "metadata": {},
   "outputs": [],
   "source": [
    "df.to_excel('dados_teste.xlsx')"
   ]
  },
  {
   "cell_type": "code",
   "execution_count": 6,
   "metadata": {},
   "outputs": [
    {
     "name": "stdout",
     "output_type": "stream",
     "text": [
      "Tupla da terceira tentativa do User_2:\n",
      "0     (True, 10)\n",
      "1    (False, 20)\n",
      "2    (False, 23)\n",
      "3    (False, 12)\n",
      "4    (False, 25)\n",
      "5     (True, 20)\n",
      "6    (False, 16)\n",
      "7    (False, 23)\n",
      "8    (False, 26)\n",
      "9     (True, 18)\n",
      "dtype: object\n"
     ]
    }
   ],
   "source": [
    "# Acessar a tupla da terceira tentativa do User_2\n",
    "tupla_terceira_tentativa_user_2 = df.loc[(df['User_ID'] == 'User_2') & (df['Tentativa'] == 'Tentativa_3'), 'Respostas'].iloc[0]\n",
    "\n",
    "# Imprimir a tupla\n",
    "print(\"Tupla da terceira tentativa do User_2:\")\n",
    "print(tupla_terceira_tentativa_user_2)"
   ]
  }
 ],
 "metadata": {
  "kernelspec": {
   "display_name": "Python 3",
   "language": "python",
   "name": "python3"
  },
  "language_info": {
   "codemirror_mode": {
    "name": "ipython",
    "version": 3
   },
   "file_extension": ".py",
   "mimetype": "text/x-python",
   "name": "python",
   "nbconvert_exporter": "python",
   "pygments_lexer": "ipython3",
   "version": "3.11.8"
  }
 },
 "nbformat": 4,
 "nbformat_minor": 2
}
