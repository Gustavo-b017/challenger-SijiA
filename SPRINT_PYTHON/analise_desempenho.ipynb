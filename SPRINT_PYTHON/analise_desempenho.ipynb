{
 "cells": [
  {
   "cell_type": "code",
   "execution_count": 1156,
   "metadata": {},
   "outputs": [],
   "source": [
    "import pandas as pd"
   ]
  },
  {
   "cell_type": "code",
   "execution_count": 1157,
   "metadata": {},
   "outputs": [],
   "source": [
    "class Quiz:\n",
    "    def __init__(self, nome_quiz, total_questoes):\n",
    "        self.nome_quiz = nome_quiz\n",
    "        self.total_questoes = total_questoes\n",
    "        self.acertos = 0\n",
    "        self.erros = 0\n",
    "        self.duracao_total = 0\n",
    "        self.user = ''\n",
    "        self.tentativa = 0\n",
    "        self.resultados = {}\n",
    "\n",
    "    \n",
    "    # Função responsável por contabilizar os acertos, os erros e o tempo toda da partida\n",
    "    def respostas (self, user='',  tentativa=0, resposta_correta=[], tempo_resposta=[]):\n",
    "\n",
    "        self.tentativa = tentativa\n",
    "        self.user = user\n",
    "        self.duracao_total = sum(tempo_resposta)\n",
    "\n",
    "        for resposta in resposta_correta:\n",
    "            if resposta:\n",
    "                self.acertos += 1\n",
    "            else:\n",
    "                self.erros += 1\n",
    "\n",
    "        duracao_total = f\"{(self.duracao_total/60):.2f} min\"\n",
    "\n",
    "        self.resultados[self.user,f\"Tentativa {self.tentativa}\"]= {\n",
    "                'Quiz':             self.nome_quiz,\n",
    "                'Acertos':          self.acertos,\n",
    "                'Erros':            self.erros,\n",
    "                'Duração total':    duracao_total\n",
    "            }\n",
    "        \n",
    "        self.acertos = 0\n",
    "        self.erros = 0\n",
    "        \n",
    "        data_resutados = pd.DataFrame(self.resultados).T\n",
    "\n",
    "        return data_resutados\n",
    "                  \n",
    "    \n",
    "    def avaliar_desempenho(self):\n",
    "\n",
    "        # Calculando desempenho\n",
    "        media_tempo_resposta = self.duracao_total / self.total_questoes\n",
    "        percentual_acertos = (self.acertos / self.total_questoes) * 100\n",
    "\n",
    "        # Avaliando o resultado do usuário\n",
    "        if percentual_acertos >= 70 and media_tempo_resposta <= 20:\n",
    "            mensagem = \"APROVADO: Você atingiu o desempenho necessário para passar de fase.\"\n",
    "        else:\n",
    "            mensagem = \"REPROVADO: Você não atingiu o desempenho necessário para passar de fase.\"\n",
    "\n",
    "        # Resetando variáveis\n",
    "        self.acertos = 0\n",
    "        self.erros = 0\n",
    "        self.duracao_total = 0\n",
    "        \n",
    "        return self.user,self.nome_quiz, self.tentativa, percentual_acertos, media_tempo_resposta, mensagem\n",
    "\n"
   ]
  },
  {
   "cell_type": "code",
   "execution_count": 1158,
   "metadata": {},
   "outputs": [],
   "source": [
    "# INPUT INICIAL\n",
    "nome_quiz       = 'Exame - hemograma'\n",
    "total_questoes  = 10\n",
    "\n",
    "quiz = Quiz(nome_quiz,total_questoes)"
   ]
  },
  {
   "cell_type": "markdown",
   "metadata": {},
   "source": [
    "# Analise de cada tentativa"
   ]
  },
  {
   "cell_type": "code",
   "execution_count": 1159,
   "metadata": {},
   "outputs": [],
   "source": [
    "# Função responsável por  filtrar as informações do DataFrame\n",
    "def analise_tentativa (user, data, tentativa):\n",
    "\n",
    "        # Filtrando o DataFrame\n",
    "        data_filtrado =  data.loc[(data['User_ID'] == user) & (data['Tentativa'] == f'Tentativa_{tentativa}'), 'Respostas'].iloc[0]\n",
    "\n",
    "        respostas = []\n",
    "        tempo = []\n",
    "\n",
    "        for questao in range(total_questoes):\n",
    "                \n",
    "                respostas.append(data_filtrado[questao][0])\n",
    "                tempo.append(data_filtrado[questao][1])\n",
    "        \n",
    "        quiz.respostas(user, tentativa, respostas, tempo)\n",
    "\n",
    "# Função responsável por apresentar as informações analizadas\n",
    "def visualizar_desempenho ():\n",
    "\n",
    "        # Buscando as informações da função avaliar_desempenho\n",
    "        user_id, quiz_nome, tentativa, percentual_acertos, media_tempo_resposta, resultado = quiz.avaliar_desempenho()\n",
    "\n",
    "        print(f\"\"\"\n",
    "                QUIZ: {quiz_nome}\n",
    "\n",
    "                Usuário .............................. {user_id}\n",
    "                Tentativa realizada .................. {tentativa}° tentativa\n",
    "                Percentual de acertos ................ {percentual_acertos:.2f}%\n",
    "                Média do tempo de resposta ........... {media_tempo_resposta:.2f} segundos\n",
    "\n",
    "                {resultado}\n",
    "                \"\"\")\n",
    "        "
   ]
  },
  {
   "cell_type": "markdown",
   "metadata": {},
   "source": [
    "# Consulta"
   ]
  },
  {
   "cell_type": "code",
   "execution_count": 1160,
   "metadata": {},
   "outputs": [],
   "source": [
    "def consulta (df):\n",
    "    # user = str(input('Digite o user_ID do usuário: '))\n",
    "    user = 'User_1'\n",
    "    tentativas = df.loc[(df['User_ID'] == user)]\n",
    "\n",
    "    for vez in range(1, len(tentativas) + 1):\n",
    "        analise_tentativa(user, df, vez)\n",
    "        \n",
    "    data_user = quiz.respostas().loc[user]\n",
    "\n",
    "    \n",
    "    print(f\" PROGRESSO DO USER: {user}\")\n",
    "    print(display(data_user))"
   ]
  },
  {
   "cell_type": "markdown",
   "metadata": {},
   "source": [
    "# Analise do progresso"
   ]
  },
  {
   "cell_type": "code",
   "execution_count": 1161,
   "metadata": {},
   "outputs": [],
   "source": [
    "def progresso (user):\n",
    "    data_user = quiz.respostas().loc[user]\n",
    "    user = 'User_1'\n",
    "\n",
    "    df = quiz.respostas().loc[user]\n",
    "\n",
    "    tentativas = len(df)"
   ]
  },
  {
   "cell_type": "markdown",
   "metadata": {},
   "source": [
    "# Gerando DataFrame teste"
   ]
  },
  {
   "cell_type": "code",
   "execution_count": 1162,
   "metadata": {},
   "outputs": [
    {
     "data": {
      "text/html": [
       "<div>\n",
       "<style scoped>\n",
       "    .dataframe tbody tr th:only-of-type {\n",
       "        vertical-align: middle;\n",
       "    }\n",
       "\n",
       "    .dataframe tbody tr th {\n",
       "        vertical-align: top;\n",
       "    }\n",
       "\n",
       "    .dataframe thead th {\n",
       "        text-align: right;\n",
       "    }\n",
       "</style>\n",
       "<table border=\"1\" class=\"dataframe\">\n",
       "  <thead>\n",
       "    <tr style=\"text-align: right;\">\n",
       "      <th></th>\n",
       "      <th>User_ID</th>\n",
       "      <th>Tentativa</th>\n",
       "      <th>Respostas</th>\n",
       "    </tr>\n",
       "  </thead>\n",
       "  <tbody>\n",
       "    <tr>\n",
       "      <th>0</th>\n",
       "      <td>User_1</td>\n",
       "      <td>Tentativa_1</td>\n",
       "      <td>0    (False, 21)\n",
       "1     (True, 20)\n",
       "2     (True,...</td>\n",
       "    </tr>\n",
       "    <tr>\n",
       "      <th>1</th>\n",
       "      <td>User_1</td>\n",
       "      <td>Tentativa_2</td>\n",
       "      <td>0    (False, 13)\n",
       "1    (False, 27)\n",
       "2    (False,...</td>\n",
       "    </tr>\n",
       "    <tr>\n",
       "      <th>2</th>\n",
       "      <td>User_1</td>\n",
       "      <td>Tentativa_3</td>\n",
       "      <td>0     (True, 29)\n",
       "1    (False, 17)\n",
       "2    (False,...</td>\n",
       "    </tr>\n",
       "    <tr>\n",
       "      <th>3</th>\n",
       "      <td>User_1</td>\n",
       "      <td>Tentativa_4</td>\n",
       "      <td>0    (False, 20)\n",
       "1     (True, 27)\n",
       "2    (False,...</td>\n",
       "    </tr>\n",
       "    <tr>\n",
       "      <th>4</th>\n",
       "      <td>User_2</td>\n",
       "      <td>Tentativa_1</td>\n",
       "      <td>0    (False, 26)\n",
       "1    (False, 28)\n",
       "2     (True,...</td>\n",
       "    </tr>\n",
       "  </tbody>\n",
       "</table>\n",
       "</div>"
      ],
      "text/plain": [
       "  User_ID    Tentativa                                          Respostas\n",
       "0  User_1  Tentativa_1  0    (False, 21)\n",
       "1     (True, 20)\n",
       "2     (True,...\n",
       "1  User_1  Tentativa_2  0    (False, 13)\n",
       "1    (False, 27)\n",
       "2    (False,...\n",
       "2  User_1  Tentativa_3  0     (True, 29)\n",
       "1    (False, 17)\n",
       "2    (False,...\n",
       "3  User_1  Tentativa_4  0    (False, 20)\n",
       "1     (True, 27)\n",
       "2    (False,...\n",
       "4  User_2  Tentativa_1  0    (False, 26)\n",
       "1    (False, 28)\n",
       "2     (True,..."
      ]
     },
     "metadata": {},
     "output_type": "display_data"
    }
   ],
   "source": [
    "import pandas as pd\n",
    "import random\n",
    "\n",
    "# Função para gerar tentativas aleatórias\n",
    "def gerar_tentativa():\n",
    "    tentativa = []\n",
    "    for _ in range(10):  # 10 questões no quiz\n",
    "        resultado = random.choice([True, False])  # Escolhe aleatoriamente se a resposta está correta ou não\n",
    "        tempo = random.randint(10, 30)  # Tempo aleatório entre 10 e 30 segundos\n",
    "        tentativa.append((resultado, tempo))\n",
    "    return pd.Series(tentativa)\n",
    "\n",
    "# Dicionário para armazenar as respostas dos usuários\n",
    "respostas = {}\n",
    "\n",
    "# Gerar 10 novos usuários com 4 tentativas diferentes cada\n",
    "for i in range(1, 11):\n",
    "    user_id = f'User_{i}'\n",
    "    tentativas_usuario = {}\n",
    "    for j in range(1, 5):\n",
    "        nome_tentativa = f'Tentativa_{j}'\n",
    "        tentativa = gerar_tentativa()\n",
    "        tentativas_usuario[nome_tentativa] = tentativa\n",
    "    respostas[user_id] = tentativas_usuario\n",
    "\n",
    "# Criar DataFrame com os resultados das tentativas dos usuários\n",
    "data = []\n",
    "for user_id, tentativas_usuario in respostas.items():\n",
    "    for tentativa, respostas_tentativa in tentativas_usuario.items():\n",
    "        data.append([user_id, tentativa, respostas_tentativa])\n",
    "\n",
    "# Criar DataFrame a partir dos dados coletados\n",
    "df = pd.DataFrame(data, columns=['User_ID', 'Tentativa', 'Respostas'])\n",
    "\n",
    "# Mostrar DataFrame\n",
    "display(df.head(5))"
   ]
  },
  {
   "cell_type": "markdown",
   "metadata": {},
   "source": [
    "# Testes"
   ]
  },
  {
   "cell_type": "code",
   "execution_count": 1163,
   "metadata": {},
   "outputs": [
    {
     "name": "stdout",
     "output_type": "stream",
     "text": [
      " PROGRESSO DO USER: User_1\n"
     ]
    },
    {
     "data": {
      "text/html": [
       "<div>\n",
       "<style scoped>\n",
       "    .dataframe tbody tr th:only-of-type {\n",
       "        vertical-align: middle;\n",
       "    }\n",
       "\n",
       "    .dataframe tbody tr th {\n",
       "        vertical-align: top;\n",
       "    }\n",
       "\n",
       "    .dataframe thead th {\n",
       "        text-align: right;\n",
       "    }\n",
       "</style>\n",
       "<table border=\"1\" class=\"dataframe\">\n",
       "  <thead>\n",
       "    <tr style=\"text-align: right;\">\n",
       "      <th></th>\n",
       "      <th>Quiz</th>\n",
       "      <th>Acertos</th>\n",
       "      <th>Erros</th>\n",
       "      <th>Duração total</th>\n",
       "    </tr>\n",
       "  </thead>\n",
       "  <tbody>\n",
       "    <tr>\n",
       "      <th>Tentativa 1</th>\n",
       "      <td>Exame - hemograma</td>\n",
       "      <td>6</td>\n",
       "      <td>4</td>\n",
       "      <td>3.67 min</td>\n",
       "    </tr>\n",
       "    <tr>\n",
       "      <th>Tentativa 2</th>\n",
       "      <td>Exame - hemograma</td>\n",
       "      <td>3</td>\n",
       "      <td>7</td>\n",
       "      <td>3.35 min</td>\n",
       "    </tr>\n",
       "    <tr>\n",
       "      <th>Tentativa 3</th>\n",
       "      <td>Exame - hemograma</td>\n",
       "      <td>4</td>\n",
       "      <td>6</td>\n",
       "      <td>3.20 min</td>\n",
       "    </tr>\n",
       "    <tr>\n",
       "      <th>Tentativa 4</th>\n",
       "      <td>Exame - hemograma</td>\n",
       "      <td>5</td>\n",
       "      <td>5</td>\n",
       "      <td>2.92 min</td>\n",
       "    </tr>\n",
       "  </tbody>\n",
       "</table>\n",
       "</div>"
      ],
      "text/plain": [
       "                          Quiz Acertos Erros Duração total\n",
       "Tentativa 1  Exame - hemograma       6     4      3.67 min\n",
       "Tentativa 2  Exame - hemograma       3     7      3.35 min\n",
       "Tentativa 3  Exame - hemograma       4     6      3.20 min\n",
       "Tentativa 4  Exame - hemograma       5     5      2.92 min"
      ]
     },
     "metadata": {},
     "output_type": "display_data"
    },
    {
     "name": "stdout",
     "output_type": "stream",
     "text": [
      "None\n"
     ]
    }
   ],
   "source": [
    "consulta(df)"
   ]
  },
  {
   "cell_type": "code",
   "execution_count": 1164,
   "metadata": {},
   "outputs": [
    {
     "data": {
      "text/plain": [
       "0    (False, 13)\n",
       "1    (False, 27)\n",
       "2    (False, 28)\n",
       "3     (True, 28)\n",
       "4    (False, 19)\n",
       "5    (False, 17)\n",
       "6    (False, 12)\n",
       "7     (True, 25)\n",
       "8    (False, 21)\n",
       "9     (True, 11)\n",
       "dtype: object"
      ]
     },
     "execution_count": 1164,
     "metadata": {},
     "output_type": "execute_result"
    }
   ],
   "source": [
    "user ='User_1'\n",
    "data_filtrado = df.loc[(df['User_ID'] == 'User_1') & (df['Tentativa'] == 'Tentativa_2'), 'Respostas'].iloc[0]\n",
    "data_filtrado\n"
   ]
  }
 ],
 "metadata": {
  "kernelspec": {
   "display_name": "Python 3",
   "language": "python",
   "name": "python3"
  },
  "language_info": {
   "codemirror_mode": {
    "name": "ipython",
    "version": 3
   },
   "file_extension": ".py",
   "mimetype": "text/x-python",
   "name": "python",
   "nbconvert_exporter": "python",
   "pygments_lexer": "ipython3",
   "version": "3.11.8"
  }
 },
 "nbformat": 4,
 "nbformat_minor": 2
}
