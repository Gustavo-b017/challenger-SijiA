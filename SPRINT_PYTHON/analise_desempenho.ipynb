{
 "cells": [
  {
   "cell_type": "code",
   "execution_count": 1,
   "metadata": {},
   "outputs": [],
   "source": [
    "import pandas as pd"
   ]
  },
  {
   "cell_type": "markdown",
   "metadata": {},
   "source": [
    "# Entrada de dados"
   ]
  },
  {
   "cell_type": "code",
   "execution_count": 2,
   "metadata": {},
   "outputs": [],
   "source": [
    "\n",
    "def entrada_dados_quiz ():\n",
    "    # Informando qual é o quiz\n",
    "    quiz_id = input('Digite o ID do quiz desejado: ')\n",
    "    return quiz_id\n",
    "\n",
    "def entrada_dados_consulta ():\n",
    "    # Consultar o progresso do usuário\n",
    "    user = input('Informe o ID do usuário: ')\n",
    "    return user"
   ]
  },
  {
   "cell_type": "markdown",
   "metadata": {},
   "source": [
    "# Quizzes disponiveis"
   ]
  },
  {
   "cell_type": "code",
   "execution_count": 3,
   "metadata": {},
   "outputs": [],
   "source": [
    "\n",
    "quizzes = {\n",
    "            'Q1': {'Nome': 'Exame - hemograma', 'Qtd': 10},\n",
    "            'Q2': {'Nome': 'Exame - urina',     'Qtd': 10},\n",
    "            'Q3': {'Nome': 'Exame - fezes',     'Qtd': 10}, \n",
    "        }\n",
    "\n",
    "df_quizzes = pd.DataFrame(quizzes).T"
   ]
  },
  {
   "cell_type": "markdown",
   "metadata": {},
   "source": [
    "# Gerando DataFrame"
   ]
  },
  {
   "cell_type": "code",
   "execution_count": 4,
   "metadata": {},
   "outputs": [],
   "source": [
    "import random\n",
    "\n",
    "# Função para gerar tentativas aleatórias\n",
    "def gerar_tentativa():\n",
    "    tentativa = []\n",
    "    for _ in range(10):  # 10 questões no quiz\n",
    "        resultado = random.choice([True, False])  # Escolhe aleatoriamente se a resposta está correta ou não\n",
    "        tempo = random.randint(10, 30)  # Tempo aleatório entre 10 e 30 segundos\n",
    "        tentativa.append((resultado, tempo))\n",
    "    return pd.Series(tentativa)\n",
    "\n",
    "# Dicionário para armazenar as respostas dos usuários\n",
    "respostas = {}\n",
    "\n",
    "# Gerar 10 novos usuários com 4 tentativas diferentes cada\n",
    "for i in range(1, 11):\n",
    "    user_id = f'User_{i}'\n",
    "    tentativas_usuario = {}\n",
    "    for j in range(1, 5):\n",
    "        nome_tentativa = f'Tentativa_{j}'\n",
    "        tentativa = gerar_tentativa()\n",
    "        tentativas_usuario[nome_tentativa] = tentativa\n",
    "    respostas[user_id] = tentativas_usuario\n",
    "\n",
    "# Criar DataFrame com os resultados das tentativas dos usuários\n",
    "data = []\n",
    "for user_id, tentativas_usuario in respostas.items():\n",
    "    for tentativa, respostas_tentativa in tentativas_usuario.items():\n",
    "        data.append([user_id, tentativa, respostas_tentativa])\n",
    "\n",
    "# Criar DataFrame a partir dos dados coletados\n",
    "df = pd.DataFrame(data, columns=['User_ID', 'Tentativa', 'Respostas'])"
   ]
  },
  {
   "cell_type": "markdown",
   "metadata": {},
   "source": [
    "# Classe Quiz"
   ]
  },
  {
   "cell_type": "code",
   "execution_count": 5,
   "metadata": {},
   "outputs": [],
   "source": [
    "class Quiz:\n",
    "    def __init__(self, nome_quiz, total_questoes):\n",
    "        self.nome_quiz = nome_quiz\n",
    "        self.total_questoes = total_questoes\n",
    "        self.acertos = 0\n",
    "        self.erros = 0\n",
    "        self.duracao_total = 0\n",
    "        self.user = ''\n",
    "        self.tentativa = 0\n",
    "        self.resultados = {}\n",
    "        self.percentual_acertos = 0\n",
    "        self.media_tempo_resposta = 0\n",
    "        self.mensagem = ''\n",
    "\n",
    "    \n",
    "    # Função responsável por contabilizar os acertos, os erros e o tempo toda da partida avaliar_desempenho(self)\n",
    "    def respostas (self, user='',  tentativa=0, resposta_correta=[], tempo_resposta=[]):\n",
    "\n",
    "        self.tentativa = tentativa\n",
    "        self.user = user\n",
    "        self.duracao_total = sum(tempo_resposta)\n",
    "\n",
    "        for resposta in resposta_correta:\n",
    "            if resposta:\n",
    "                self.acertos += 1\n",
    "            else:\n",
    "                self.erros += 1\n",
    "        \n",
    "        # Calculando desempenho\n",
    "        self.media_tempo_resposta = self.duracao_total / self.total_questoes\n",
    "        self.percentual_acertos   = (self.acertos / self.total_questoes) * 100\n",
    "\n",
    "        # Avaliando o resultado do usuário\n",
    "        if self.percentual_acertos >= 70 and self.media_tempo_resposta <= 20:\n",
    "            mensagem = \"APROVADO\"\n",
    "        else:\n",
    "            mensagem = \"REPROVADO\"\n",
    "\n",
    "        self.mensagem = mensagem\n",
    "        \n",
    "\n",
    "    def armazenando_dados (self):\n",
    "\n",
    "        self.resultados[self.user,f\"Tentativa {self.tentativa}\"]= {\n",
    "                'Quiz':                   self.nome_quiz,\n",
    "                'Acertos':                self.acertos,\n",
    "                'Erros':                  self.erros,\n",
    "                'Acertos(%)':             f\"{self.percentual_acertos} %\",\n",
    "                'Média tempo resposta':   f\"{self.media_tempo_resposta} s\",\n",
    "                'Duração do quiz':        f\"{(self.duracao_total/60):.2f} min\",\n",
    "                'Status':                 self.mensagem\n",
    "            }\n",
    "        \n",
    "        data_resutados = pd.DataFrame(self.resultados).T\n",
    "\n",
    "        self.acertos = 0\n",
    "        self.erros = 0\n",
    "        self.percentual_acertos = 0\n",
    "        self.media_tempo_resposta = 0\n",
    "        self.duracao_total = 0\n",
    "        self.mensagem = 0\n",
    "\n",
    "        return data_resutados\n",
    "            \n"
   ]
  },
  {
   "cell_type": "markdown",
   "metadata": {},
   "source": [
    "# Definindo o quiz"
   ]
  },
  {
   "cell_type": "code",
   "execution_count": 6,
   "metadata": {},
   "outputs": [],
   "source": [
    "# INPUT INICIAL\n",
    "quiz_id = entrada_dados_quiz()\n",
    "\n",
    "name_quiz = quizzes[quiz_id]['Nome']\n",
    "qtd_quiz = quizzes[quiz_id]['Qtd']\n",
    "\n",
    "quiz = Quiz(name_quiz, qtd_quiz)"
   ]
  },
  {
   "cell_type": "markdown",
   "metadata": {},
   "source": [
    "# Analise de cada tentativa"
   ]
  },
  {
   "cell_type": "code",
   "execution_count": 7,
   "metadata": {},
   "outputs": [],
   "source": [
    "# Função responsável por  filtrar as informações do DataFrame\n",
    "def analise_tentativa (user, data, tentativa):\n",
    "\n",
    "        # Filtrando o DataFrame\n",
    "        data_filtrado =  data.loc[(data['User_ID'] == user) & (data['Tentativa'] == f'Tentativa_{tentativa}'), 'Respostas'].iloc[0]\n",
    "\n",
    "        respostas = []\n",
    "        tempo     = []\n",
    "\n",
    "        for questao in range(quiz.total_questoes):\n",
    "                        \n",
    "                respostas.append(data_filtrado[questao][0])\n",
    "                tempo.append(data_filtrado[questao][1])\n",
    "                \n",
    "        quiz.armazenando_dados()        \n",
    "        quiz.respostas(user, tentativa, respostas, tempo)\n",
    "        \n"
   ]
  },
  {
   "cell_type": "markdown",
   "metadata": {},
   "source": [
    "# Consulta"
   ]
  },
  {
   "cell_type": "code",
   "execution_count": 8,
   "metadata": {},
   "outputs": [],
   "source": [
    "def consulta(user, df):\n",
    "    \n",
    "    tentativas = df.loc[(df['User_ID'] == user)]\n",
    "\n",
    "    for vez in range(1, len(tentativas) + 1):\n",
    "        analise_tentativa(user, df, vez)\n",
    "    \n",
    "    data_user = quiz.armazenando_dados().loc[user]\n",
    "    \n",
    "    #  Mostrando as informações coletadas sobre o usuário\n",
    "    print(f\" PROGRESSO DO USER: {user}\")\n",
    "    display(data_user)"
   ]
  },
  {
   "cell_type": "markdown",
   "metadata": {},
   "source": [
    "# Menu"
   ]
  },
  {
   "cell_type": "code",
   "execution_count": 9,
   "metadata": {},
   "outputs": [
    {
     "name": "stdout",
     "output_type": "stream",
     "text": [
      "Quizzes disponiveis: \n"
     ]
    },
    {
     "data": {
      "text/html": [
       "<div>\n",
       "<style scoped>\n",
       "    .dataframe tbody tr th:only-of-type {\n",
       "        vertical-align: middle;\n",
       "    }\n",
       "\n",
       "    .dataframe tbody tr th {\n",
       "        vertical-align: top;\n",
       "    }\n",
       "\n",
       "    .dataframe thead th {\n",
       "        text-align: right;\n",
       "    }\n",
       "</style>\n",
       "<table border=\"1\" class=\"dataframe\">\n",
       "  <thead>\n",
       "    <tr style=\"text-align: right;\">\n",
       "      <th></th>\n",
       "      <th>Nome</th>\n",
       "      <th>Qtd</th>\n",
       "    </tr>\n",
       "  </thead>\n",
       "  <tbody>\n",
       "    <tr>\n",
       "      <th>Q1</th>\n",
       "      <td>Exame - hemograma</td>\n",
       "      <td>10</td>\n",
       "    </tr>\n",
       "    <tr>\n",
       "      <th>Q2</th>\n",
       "      <td>Exame - urina</td>\n",
       "      <td>10</td>\n",
       "    </tr>\n",
       "    <tr>\n",
       "      <th>Q3</th>\n",
       "      <td>Exame - fezes</td>\n",
       "      <td>10</td>\n",
       "    </tr>\n",
       "  </tbody>\n",
       "</table>\n",
       "</div>"
      ],
      "text/plain": [
       "                 Nome Qtd\n",
       "Q1  Exame - hemograma  10\n",
       "Q2      Exame - urina  10\n",
       "Q3      Exame - fezes  10"
      ]
     },
     "metadata": {},
     "output_type": "display_data"
    },
    {
     "name": "stdout",
     "output_type": "stream",
     "text": [
      "------ MENU: Analise de desempenho ------\n",
      "\n",
      "Quiz: Exame - hemograma\n",
      "1. Consultar desempenho do usuário\n",
      "2. Ver quizzes disponiveis\n",
      "3. Ver DataFrame  com dados dos usuários\n",
      "4. Sair\n",
      "\n",
      " PROGRESSO DO USER: User_2\n"
     ]
    },
    {
     "data": {
      "text/html": [
       "<div>\n",
       "<style scoped>\n",
       "    .dataframe tbody tr th:only-of-type {\n",
       "        vertical-align: middle;\n",
       "    }\n",
       "\n",
       "    .dataframe tbody tr th {\n",
       "        vertical-align: top;\n",
       "    }\n",
       "\n",
       "    .dataframe thead th {\n",
       "        text-align: right;\n",
       "    }\n",
       "</style>\n",
       "<table border=\"1\" class=\"dataframe\">\n",
       "  <thead>\n",
       "    <tr style=\"text-align: right;\">\n",
       "      <th></th>\n",
       "      <th>Quiz</th>\n",
       "      <th>Acertos</th>\n",
       "      <th>Erros</th>\n",
       "      <th>Acertos(%)</th>\n",
       "      <th>Média tempo resposta</th>\n",
       "      <th>Duração do quiz</th>\n",
       "      <th>Status</th>\n",
       "    </tr>\n",
       "  </thead>\n",
       "  <tbody>\n",
       "    <tr>\n",
       "      <th>Tentativa 1</th>\n",
       "      <td>Exame - hemograma</td>\n",
       "      <td>5</td>\n",
       "      <td>5</td>\n",
       "      <td>50.0 %</td>\n",
       "      <td>19.5 s</td>\n",
       "      <td>3.25 min</td>\n",
       "      <td>REPROVADO</td>\n",
       "    </tr>\n",
       "    <tr>\n",
       "      <th>Tentativa 2</th>\n",
       "      <td>Exame - hemograma</td>\n",
       "      <td>7</td>\n",
       "      <td>3</td>\n",
       "      <td>70.0 %</td>\n",
       "      <td>18.8 s</td>\n",
       "      <td>3.13 min</td>\n",
       "      <td>APROVADO</td>\n",
       "    </tr>\n",
       "    <tr>\n",
       "      <th>Tentativa 3</th>\n",
       "      <td>Exame - hemograma</td>\n",
       "      <td>6</td>\n",
       "      <td>4</td>\n",
       "      <td>60.0 %</td>\n",
       "      <td>18.9 s</td>\n",
       "      <td>3.15 min</td>\n",
       "      <td>REPROVADO</td>\n",
       "    </tr>\n",
       "    <tr>\n",
       "      <th>Tentativa 4</th>\n",
       "      <td>Exame - hemograma</td>\n",
       "      <td>7</td>\n",
       "      <td>3</td>\n",
       "      <td>70.0 %</td>\n",
       "      <td>19.3 s</td>\n",
       "      <td>3.22 min</td>\n",
       "      <td>APROVADO</td>\n",
       "    </tr>\n",
       "  </tbody>\n",
       "</table>\n",
       "</div>"
      ],
      "text/plain": [
       "                          Quiz Acertos Erros Acertos(%) Média tempo resposta  \\\n",
       "Tentativa 1  Exame - hemograma       5     5     50.0 %               19.5 s   \n",
       "Tentativa 2  Exame - hemograma       7     3     70.0 %               18.8 s   \n",
       "Tentativa 3  Exame - hemograma       6     4     60.0 %               18.9 s   \n",
       "Tentativa 4  Exame - hemograma       7     3     70.0 %               19.3 s   \n",
       "\n",
       "            Duração do quiz     Status  \n",
       "Tentativa 1        3.25 min  REPROVADO  \n",
       "Tentativa 2        3.13 min   APROVADO  \n",
       "Tentativa 3        3.15 min  REPROVADO  \n",
       "Tentativa 4        3.22 min   APROVADO  "
      ]
     },
     "metadata": {},
     "output_type": "display_data"
    },
    {
     "name": "stdout",
     "output_type": "stream",
     "text": [
      "------ MENU: Analise de desempenho ------\n",
      "\n",
      "Quiz: Exame - hemograma\n",
      "1. Consultar desempenho do usuário\n",
      "2. Ver quizzes disponiveis\n",
      "3. Ver DataFrame  com dados dos usuários\n",
      "4. Sair\n",
      "\n",
      "Saindo do jogo...\n"
     ]
    }
   ],
   "source": [
    "def mostrar_menu():\n",
    "    print(\"------ MENU: Analise de desempenho ------\\n\")\n",
    "    print(f\"Quiz: {name_quiz}\")\n",
    "    print(\"1. Consultar desempenho do usuário\")\n",
    "    print(\"2. Ver quizzes disponiveis\")\n",
    "    print(\"3. Ver DataFrame  com dados dos usuários\")\n",
    "    print(\"4. Sair\\n\")\n",
    "\n",
    "def main():\n",
    "    while True:\n",
    "        mostrar_menu()\n",
    "        opcao = input(\"Escolha uma opção: \")\n",
    "\n",
    "        if opcao == '1':\n",
    "            # Coletando dados\n",
    "            user_id = entrada_dados_consulta()\n",
    "            # Apresentados dados\n",
    "            consulta(user_id, df)\n",
    "\n",
    "        elif opcao == '2':\n",
    "            print('QUIZZES DISPONIVEIS')\n",
    "            display(df_quizzes)\n",
    "\n",
    "        elif opcao == '3':\n",
    "            print('DATAFRAME')\n",
    "            display(df)\n",
    "\n",
    "        elif opcao == '4':\n",
    "            print(\"Saindo do jogo...\")\n",
    "            break\n",
    "        else:\n",
    "            print(\"Opção inválida. Escolha novamente.\")\n",
    "\n",
    "if __name__ == \"__main__\":\n",
    "    print('Quizzes disponiveis: ')\n",
    "    display(df_quizzes)\n",
    "    main()"
   ]
  }
 ],
 "metadata": {
  "kernelspec": {
   "display_name": "Python 3",
   "language": "python",
   "name": "python3"
  },
  "language_info": {
   "codemirror_mode": {
    "name": "ipython",
    "version": 3
   },
   "file_extension": ".py",
   "mimetype": "text/x-python",
   "name": "python",
   "nbconvert_exporter": "python",
   "pygments_lexer": "ipython3",
   "version": "3.11.8"
  }
 },
 "nbformat": 4,
 "nbformat_minor": 2
}
